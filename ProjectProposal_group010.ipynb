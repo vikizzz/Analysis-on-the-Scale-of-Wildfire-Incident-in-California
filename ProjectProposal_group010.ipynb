{
 "cells": [
  {
   "cell_type": "markdown",
   "metadata": {},
   "source": [
    "# COGS 108 - Final Project Proposal"
   ]
  },
  {
   "cell_type": "markdown",
   "metadata": {},
   "source": [
    "# Names\n",
    "\n",
    "- Jiayi Zhao\n",
    "- Wenbo Hu\n",
    "- Xiaotong Zeng\n",
    "- Yunyi Huang\n"
   ]
  },
  {
   "cell_type": "markdown",
   "metadata": {},
   "source": [
    "# Research Question"
   ]
  },
  {
   "cell_type": "markdown",
   "metadata": {},
   "source": [
    "Is there a statistically significant relationship between the scale (buring area) of wildfire and different climate variables that are associated with global warming such as relative humidity level, temperature, etc? Additionally, how do these different climate variables relate to the factors that would cause more fire damage? "
   ]
  },
  {
   "cell_type": "markdown",
   "metadata": {},
   "source": [
    "## Background and Prior Work"
   ]
  },
  {
   "cell_type": "markdown",
   "metadata": {},
   "source": [
    "*Fill in your background and prior work here. Be sure to specify which statements are from which references.* \n",
    "\n",
    "References (include links):\n",
    "- 1)\n",
    "- 2)"
   ]
  },
  {
   "cell_type": "markdown",
   "metadata": {},
   "source": [
    "# Hypothesis\n"
   ]
  },
  {
   "cell_type": "markdown",
   "metadata": {},
   "source": [
    "We believe that the scale of wildfires will have a negative correlation with air relative humidity and a positive correlation with temperature. As air gets drier and warmer, we expect the scale of wildfire to increase.\n",
    "\n",
    "We believe that global warming may also increase the scale of wildfires. \n"
   ]
  },
  {
   "cell_type": "markdown",
   "metadata": {},
   "source": [
    "# Data"
   ]
  },
  {
   "cell_type": "markdown",
   "metadata": {},
   "source": [
    "__Table on Wildfire Cases:__\n",
    "* Variables:\n",
    "    - Start Date (in date)\n",
    "    - Duration (in days)\n",
    "    - Location (in county)\n",
    "    - Total Burning Area (in acre)\n",
    "* Observation: \n",
    "    - Every single wildfire case in the California from 1900 to present\n",
    "\n",
    "__Table on Climate Factors:__\n",
    "* Variables:\n",
    "    - Location (in county)\n",
    "    - Air relative humidity (in percentage)\n",
    "    - Date (in date)\n",
    "    - Temperature (in fahrenheit)\n",
    "    - Number of Powderpost Beetles (in number)\n",
    "    - Percentage of forest fuel (in percentage)\n",
    "* Observation:\n",
    "    - Every day of each forest in California from 1900 to present\n",
    "\n",
    "The perfect dataset would be official data on wildfire cases and climate factors collected by professional scientists who study fire research, climatologists, and ecologists from the government. These data would be collected on a daily basis or each time when a wildfire happens in California. These data would be stored into a csv.\n"
   ]
  },
  {
   "cell_type": "markdown",
   "metadata": {},
   "source": [
    "# Ethics & Privacy"
   ]
  },
  {
   "cell_type": "markdown",
   "metadata": {},
   "source": [
    "When it comes to the ethics of the project, we believe that we have done the project proposal in a legal and fair way. Also, our project is going to be done for academic use, instead of commercial purpose. Looking at the data sources we are going to use in the project, which may be from the website of Kaggle. According to the privacy terms of Kaggle, we have the rights to download the dataset, but we are not allowed to modify or exploit other ways without the prior consent of the datasets’ owners. Besides Kaggle, we would always adhere to the principles of data privacy, and we will use the data if and only if we have the permission to do so. Accuracy of data from kaggle should be doubted and evaluated. To eliminate the inaccuracy of the data, we can choose some data values (yearly acres burned by the wildfire, temperature for specific day, or fatalities) and search them separately, comparing them to examine their liability. \n",
    "\n",
    "However, there may be some ethical issues during the analysis and within the dataset, which we will be more aware of after we dive deeper into the project later.\n"
   ]
  },
  {
   "cell_type": "markdown",
   "metadata": {},
   "source": [
    "# Team Expectations "
   ]
  },
  {
   "cell_type": "markdown",
   "metadata": {},
   "source": [
    "* *We will be on the same page throughout the quarter since we have weekly meeting to check everyone's progress.*\n",
    "* *Everyone will contribute to this project equally and carry out the burden all together.*\n",
    "* *Our strengths are discussed and responsibilities are divided up accordingly.*\n",
    "* *Good teamwork demands us to communicate with each other effectively and be willing to help anyone who’s stuck during the project.*\n",
    "* *Believing that our team will work things out and make an awesome data science project*"
   ]
  },
  {
   "cell_type": "markdown",
   "metadata": {},
   "source": [
    "# Project Timeline Proposal"
   ]
  },
  {
   "cell_type": "markdown",
   "metadata": {},
   "source": [
    "| Meeting Date  | Meeting Time| Completed Before Meeting  | Discuss at Meeting |\n",
    "|---|---|---|---|\n",
    "| 1/20  |  1 PM | Read & Think about COGS 108 expectations; brainstorm topics/questions  | Determine best form of communication; Discuss and decide on final project topic; discuss hypothesis; begin background research | \n",
    "| 1/26  |  4 PM |  Do background research on topic | Discuss ideal dataset(s) and ethics; draft project proposal | \n",
    "| 1/28  |  8 PM  | Edit, finalize, and submit proposal; Search for datasets  | Discuss Wrangling and possible analytical approaches; Assign group members to lead each specific part   |\n",
    "| 2/3  | 8 PM  | Import & Wrangle Data; EDA | Review/Edit wrangling/EDA; Discuss Analysis Plan   |\n",
    "| 2/10  | 8 PM  | Submit Data Checkpoint | Review/Edit wrangling/EDA; Discuss Analysis Plan   |\n",
    "| 2/17  | 8 PM  | Import & Wrangle Data; EDA | Review/Edit wrangling/EDA; Discuss Analysis Plan   |\n",
    "| 2/24  | 8 PM  | Finalize wrangling/EDA; Begin Analysis | Discuss/edit Analysis; Submit EDA Checkpoint |\n",
    "| 3/13  | 8 PM  | Complete analysis; Draft results/conclusion/discussion | Discuss/review/edit full project |\n",
    "| 3/17  | Before 11:59 PM  | NA | Turn in Final Project & Group Project Surveys |"
   ]
  },
  {
   "cell_type": "code",
   "execution_count": null,
   "metadata": {},
   "outputs": [],
   "source": []
  }
 ],
 "metadata": {
  "kernelspec": {
   "display_name": "Python 3",
   "language": "python",
   "name": "python3"
  },
  "language_info": {
   "codemirror_mode": {
    "name": "ipython",
    "version": 3
   },
   "file_extension": ".py",
   "mimetype": "text/x-python",
   "name": "python",
   "nbconvert_exporter": "python",
   "pygments_lexer": "ipython3",
   "version": "3.7.6"
  }
 },
 "nbformat": 4,
 "nbformat_minor": 2
}
