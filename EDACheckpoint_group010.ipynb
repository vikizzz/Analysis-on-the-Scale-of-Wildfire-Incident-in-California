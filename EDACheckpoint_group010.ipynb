{
 "cells": [
  {
   "cell_type": "markdown",
   "metadata": {},
   "source": [
    "# COGS 108 - EDA Checkpoint"
   ]
  },
  {
   "cell_type": "markdown",
   "metadata": {},
   "source": [
    "# Names\n",
    "\n",
    "- Jiayi Zhao\n",
    "- Wenbo Hu\n",
    "- Yunyi Huang\n",
    "- Xiaotong Zeng"
   ]
  },
  {
   "cell_type": "markdown",
   "metadata": {},
   "source": [
    "<a id='research_question'></a>\n",
    "# Research Question"
   ]
  },
  {
   "cell_type": "markdown",
   "metadata": {},
   "source": [
    "Is there a statistically significant relationship between the scale (burning area) of wildfire and climate variables in California that are associated with global warming such as relative humidity level, temperature and wind speed? Additionally, how can we utilize these climate variables to predict the wildfire event in California and the scale of wildfire?"
   ]
  },
  {
   "cell_type": "markdown",
   "metadata": {},
   "source": [
    "# Setup"
   ]
  },
  {
   "cell_type": "markdown",
   "metadata": {},
   "source": [
    "### Import Necessary Libraries"
   ]
  },
  {
   "cell_type": "code",
   "execution_count": 1,
   "metadata": {},
   "outputs": [],
   "source": [
    "# Import pandas to read csv file and manage heterogenous data\n",
    "import pandas as pd\n",
    "\n",
    "# Import numpy to store numeric information and perform numerical analysis\n",
    "import numpy as np\n",
    "\n",
    "# Import seaborn and matplotlib to visualize data\n",
    "import seaborn as sns\n",
    "import matplotlib.pyplot as plt\n",
    "\n",
    "# Import numpy to store numeric information and perform numerical analysis\n",
    "import numpy as np\n",
    "\n",
    "# Import seaborn and matplotlib to visualize data\n",
    "import seaborn as sns\n",
    "import matplotlib.pyplot as plt\n",
    "\n",
    "#Import scipy to gather statistics\n",
    "from scipy import stats\n",
    "\n",
    "# Import patsy and statsmodels for regression analysis\n",
    "import patsy\n",
    "import statsmodels.api as sm\n",
    "\n",
    "import warnings\n",
    "\n",
    "import shutil\n",
    "\n",
    "import os"
   ]
  },
  {
   "cell_type": "markdown",
   "metadata": {},
   "source": [
    "### Import the three data sets that we need"
   ]
  },
  {
   "cell_type": "code",
   "execution_count": null,
   "metadata": {},
   "outputs": [],
   "source": [
    "# Load the California wildfire incidents data set in data frame\n",
    "# We get this data set from Kaggle (https://www.kaggle.com/ananthu017/california-wildfire-incidents-20132020)\n",
    "wildfire = pd.read_csv(\"California_Fire_Incidents.csv\")\n",
    "\n",
    "\n",
    "# Load the US weather station ID data set in data frame\n",
    "# We get the Integrated Surface Data (ISD) station list from ncdc.noaa.gov\n",
    "station = pd.read_csv(\"https://www1.ncdc.noaa.gov/pub/data/noaa/isd-history.csv\")\n",
    "\n",
    "\n",
    "# Load the US weather daily data set from 2013 to 2019 in data frame\n",
    "# We get this data from ncei.noaa.gov and download to the local.\n",
    "# (https://www.ncei.noaa.gov/data/global-summary-of-the-day/archive/)\n",
    "for dirname, _, filenames in os.walk('/Users/wenbohu/Desktop/Weather'):\n",
    "    for filename in filenames:\n",
    "        print((os.path.join(dirname, filename)))\n",
    "        \n",
    "# get all subdiretory of all tables\n",
    "file_dict ={}\n",
    "for path, dirs, files in os.walk('/Users/wenbohu/Desktop/Weather', topdown=False):\n",
    "    file_dict[path]=files\n",
    "    \n",
    "paths = list(file_dict.keys())\n",
    "\n",
    "events = []\n",
    "for path in paths:\n",
    "    events += [os.path.join(path,file) for file in file_dict[path]]\n",
    "    "
   ]
  },
  {
   "cell_type": "markdown",
   "metadata": {},
   "source": [
    "# Data Cleaning"
   ]
  },
  {
   "cell_type": "markdown",
   "metadata": {},
   "source": [
    "Since we have three data set, we choose to clean them seperatly and then merge these dataset by locations."
   ]
  },
  {
   "cell_type": "markdown",
   "metadata": {},
   "source": [
    "### First, we clean the California wildfire incidents data set\n"
   ]
  },
  {
   "cell_type": "markdown",
   "metadata": {},
   "source": [
    "Since we only need the dates, acres burned (scale), and county name for the following analysis, we update these information back to *'wildfire'*."
   ]
  },
  {
   "cell_type": "code",
   "execution_count": null,
   "metadata": {},
   "outputs": [],
   "source": [
    "# delete the irrelevant columns\n",
    "wildfire = wildfire[['AcresBurned','Started','Counties', 'Latitude', 'Longitude']]\n",
    "\n",
    "# change the started time into date\n",
    "#wildfire['Started'] = pd.to_datetime(wildfire['Started'])\n",
    "wildfire['Started'] = [x[0:10] for x in wildfire['Started']]\n",
    "\n",
    "# change the 'Started' column name into 'Date'\n",
    "wildfire = wildfire.rename({'Started':'Date'}, axis='columns')\n",
    "\n",
    "#drop the null values \n",
    "wildfire['Latitude'] = wildfire['Latitude'].apply(lambda x: np.nan if x == 0 else x)\n",
    "wildfire = wildfire.dropna().reset_index(drop=True) \n"
   ]
  },
  {
   "cell_type": "markdown",
   "metadata": {},
   "source": [
    "Now take a look on the *wildfire* dataframe"
   ]
  },
  {
   "cell_type": "code",
   "execution_count": null,
   "metadata": {},
   "outputs": [],
   "source": [
    "wildfire.head()"
   ]
  },
  {
   "cell_type": "markdown",
   "metadata": {},
   "source": [
    "### Second, clean the Integrated Surface Data (ISD) station list"
   ]
  },
  {
   "cell_type": "code",
   "execution_count": null,
   "metadata": {},
   "outputs": [],
   "source": [
    "# Since the weather station ID is a combination of column 'USAF' and 'WBAN',\n",
    "# we combine these two columns into a new column called 'ID'\n",
    "station['ID']= station['USAF'].astype(str) + station['WBAN'].astype(str)\n",
    "\n",
    "# we only analyze California weather\n",
    "station = station[(station['STATE']=='CA') & (station['CTRY']=='US')].reset_index(drop=True)\n",
    "\n",
    "# station only need to include the ID and the nameof the station\n",
    "pd.set_option(\"max_rows\", None)"
   ]
  },
  {
   "cell_type": "markdown",
   "metadata": {},
   "source": [
    "Now take a look on the *station* dataframe"
   ]
  },
  {
   "cell_type": "code",
   "execution_count": null,
   "metadata": {},
   "outputs": [],
   "source": [
    "station.head()"
   ]
  },
  {
   "cell_type": "markdown",
   "metadata": {},
   "source": [
    "### Thrid, we merge the wildfire and station ID dataframes by matching the LATITUDE and LONGTITUDE of the wildfire incident locations and weather stations. \n",
    "We compare each error index (0.1, 0.2, 0.3, 0.5) in order to find which diameter we should choose for more unique stations is determined."
   ]
  },
  {
   "cell_type": "code",
   "execution_count": null,
   "metadata": {},
   "outputs": [],
   "source": [
    "IDlist = []\n",
    "for i,j in wildfire.iterrows():\n",
    "    before = len(IDlist)\n",
    "    for a,b in station.iterrows():\n",
    "        #about 50km * 40km (just for first time test then tried 0.3, 0.1, and 0.2)\n",
    "        if (((b['LAT'] <= j['Latitude'] + 0.2) and (b['LAT'] >= j['Latitude'] - 0.2)) \n",
    "        and (( b['LON'] <= j['Longitude'] + 0.2) and ( b['LON'] >= j['Longitude'] - 0.2))):\n",
    "            IDlist.append(b['ID'])\n",
    "            break\n",
    "    after = len(IDlist)\n",
    "    if (before == after):\n",
    "        IDlist.append(\"Not_Found\")"
   ]
  },
  {
   "cell_type": "code",
   "execution_count": null,
   "metadata": {},
   "outputs": [],
   "source": [
    "# 0.5-95 0.3-119 0.1-119 0.2-127(THIS IS THE BEST!!!!)\n",
    "# when 0.1 it's also 119 but lots of not found values\n",
    "unique = []\n",
    "for x in IDlist:\n",
    "    if x not in unique:\n",
    "        unique.append(x)\n",
    "print(len(unique))"
   ]
  },
  {
   "cell_type": "markdown",
   "metadata": {},
   "source": [
    "Then, we create a dataframe called *matched_wildfire* that consists the scale, date, county name, latitude, and longitude of the wildfire incidents and the weather station ID in that incident area."
   ]
  },
  {
   "cell_type": "code",
   "execution_count": null,
   "metadata": {},
   "outputs": [],
   "source": [
    "IDlist = []\n",
    "row_fire = []\n",
    "row_ID =[]\n",
    "\n",
    "# create a new dataframe to store these matched data\n",
    "matched_wildfire = pd.DataFrame(columns=wildfire.columns)\n",
    "\n",
    "# iterate the rows in wildfire and station to find the matched data\n",
    "for i,j in wildfire.iterrows():\n",
    "    for a,b in station.iterrows():\n",
    "        if (((b['LAT'] <= j['Latitude'] + 0.2) and (b['LAT'] >= j['Latitude'] - 0.2)) \n",
    "        and (( b['LON'] <= j['Longitude'] + 0.2) and ( b['LON'] >= j['Longitude'] - 0.2))):\n",
    "            IDlist.append(b['ID'])\n",
    "            row_ID.append(b['ID'])\n",
    "            row_fire.append(list(j))\n",
    "            break\n",
    "            \n",
    "matched_wildfire = matched_wildfire.append(pd.DataFrame(row_fire,columns=wildfire.columns))\n",
    "matched_wildfire = matched_wildfire.assign(ID=row_ID)"
   ]
  },
  {
   "cell_type": "markdown",
   "metadata": {},
   "source": [
    "Now, take a look on the *matched_wildfire*"
   ]
  },
  {
   "cell_type": "code",
   "execution_count": null,
   "metadata": {},
   "outputs": [],
   "source": [
    "matched_wildfire.head()"
   ]
  },
  {
   "cell_type": "markdown",
   "metadata": {},
   "source": [
    "### Fourth, using the *matched_wildfire* data frame merge with the weather dataset from 2013 to 2019 so that every wildfire incident has the weather data of that day. "
   ]
  },
  {
   "cell_type": "markdown",
   "metadata": {},
   "source": [
    "Take a brief look on how the dataset of one station in the weather dataset in 2013 looks like"
   ]
  },
  {
   "cell_type": "code",
   "execution_count": null,
   "metadata": {},
   "outputs": [],
   "source": [
    "example = pd.read_csv(\"/Users/wenbohu/Desktop/Weather/2013/40854099999.csv\")\n",
    "example.head()"
   ]
  },
  {
   "cell_type": "markdown",
   "metadata": {},
   "source": [
    "Loop the *matched_wildfire* and find the weather data with the matched date and station ID"
   ]
  },
  {
   "cell_type": "code",
   "execution_count": null,
   "metadata": {},
   "outputs": [],
   "source": [
    "# Get the weather information of wildfire start date \n",
    "row_weather = []\n",
    "join_id = []\n",
    "num = 1\n",
    "\n",
    "# create a data frame to store the weather data\n",
    "weather = pd.DataFrame(columns = example.columns)\n",
    "\n",
    "for i, j in matched_wildfire.iterrows():\n",
    "    for file in events:\n",
    "        if num in join_id:\n",
    "            break\n",
    "        if (file[-15:-4] == j['Station_ID']):\n",
    "            temp = pd.read_csv(file)\n",
    "            for a, b in temp.iterrows():\n",
    "                if (b[\"DATE\"] == j['Date']):\n",
    "                    row_weather.append(list(b))\n",
    "                    join_id.append(num)\n",
    "                    break \n",
    "    num += 1"
   ]
  },
  {
   "cell_type": "markdown",
   "metadata": {},
   "source": [
    "Append these matched weather data to *weather*"
   ]
  },
  {
   "cell_type": "code",
   "execution_count": null,
   "metadata": {},
   "outputs": [],
   "source": [
    "weather = pd.DataFrame(columns = example.columns)\n",
    "weather = weather.append(pd.DataFrame(row_weather, columns = example.columns))\n",
    "weather = weather.assign(Join_ID = join_id)"
   ]
  },
  {
   "cell_type": "markdown",
   "metadata": {},
   "source": [
    "Now, take a look on the *weather*"
   ]
  },
  {
   "cell_type": "code",
   "execution_count": null,
   "metadata": {},
   "outputs": [],
   "source": [
    "weather.head()"
   ]
  },
  {
   "cell_type": "markdown",
   "metadata": {},
   "source": [
    "Merge *matched_wildfire* and *weather*, and store this merge dataset in local as a csv file"
   ]
  },
  {
   "cell_type": "code",
   "execution_count": null,
   "metadata": {},
   "outputs": [],
   "source": [
    "dataframe = matched_wildfire.merge(weather, on = 'Join_ID')"
   ]
  },
  {
   "cell_type": "code",
   "execution_count": null,
   "metadata": {},
   "outputs": [],
   "source": [
    "dataframe.to_csv('/Users/wenbohu/Desktop/df.csv')"
   ]
  },
  {
   "cell_type": "markdown",
   "metadata": {},
   "source": [
    "### Lastly, import and clean this final data frame"
   ]
  },
  {
   "cell_type": "markdown",
   "metadata": {},
   "source": [
    "The weather variable columns decription:\n",
    " - TMP: Mean temperature for the day in degrees Fahrenheit to tenths. Missing = 9999.9\n",
    " - DEWP: Mean dew point for the day in degreesm Fahrenheit to tenths. Missing = 9999.9\n",
    " - WDSD: Mean wind speed for the day in knots to tenths. Missing = 999.9\n",
    " - PRCP: Total precipitation (rain and/or melted snow) reported during the day in inches and hundredths; will usually not end with"
   ]
  },
  {
   "cell_type": "code",
   "execution_count": 2,
   "metadata": {},
   "outputs": [],
   "source": [
    "df = pd.read_csv('df.csv')\n",
    "\n",
    "df = df[['AcresBurned', 'Date', 'Counties','TEMP','DEWP','WDSP','ELEVATION', 'PRCP']] \n",
    "\n",
    "# By the column description, we replace the missing value (9999.9 or 999.9) with np.nan\n",
    "df['TEMP'] = df['TEMP'].replace(9999.9, np.nan, regex=True) \n",
    "df['DEWP'] = df['DEWP'].replace(9999.9, np.nan, regex=True) \n",
    "df['WDSP'] = df['WDSP'].replace(999.9, np.nan, regex=True) \n",
    "\n",
    "# Drop the NAN value\n",
    "df = df.dropna(subset=['TEMP','DEWP','WDSP'])"
   ]
  },
  {
   "cell_type": "markdown",
   "metadata": {},
   "source": [
    "#### The Final Dataframe"
   ]
  },
  {
   "cell_type": "code",
   "execution_count": 3,
   "metadata": {},
   "outputs": [
    {
     "data": {
      "text/html": [
       "<div>\n",
       "<style scoped>\n",
       "    .dataframe tbody tr th:only-of-type {\n",
       "        vertical-align: middle;\n",
       "    }\n",
       "\n",
       "    .dataframe tbody tr th {\n",
       "        vertical-align: top;\n",
       "    }\n",
       "\n",
       "    .dataframe thead th {\n",
       "        text-align: right;\n",
       "    }\n",
       "</style>\n",
       "<table border=\"1\" class=\"dataframe\">\n",
       "  <thead>\n",
       "    <tr style=\"text-align: right;\">\n",
       "      <th></th>\n",
       "      <th>AcresBurned</th>\n",
       "      <th>Date</th>\n",
       "      <th>Counties</th>\n",
       "      <th>TEMP</th>\n",
       "      <th>DEWP</th>\n",
       "      <th>WDSP</th>\n",
       "      <th>ELEVATION</th>\n",
       "      <th>PRCP</th>\n",
       "    </tr>\n",
       "  </thead>\n",
       "  <tbody>\n",
       "    <tr>\n",
       "      <th>1</th>\n",
       "      <td>712.0</td>\n",
       "      <td>2013-07-19</td>\n",
       "      <td>Kern</td>\n",
       "      <td>80.5</td>\n",
       "      <td>33.8</td>\n",
       "      <td>13.2</td>\n",
       "      <td>1374.6</td>\n",
       "      <td>0.0</td>\n",
       "    </tr>\n",
       "    <tr>\n",
       "      <th>3</th>\n",
       "      <td>305.0</td>\n",
       "      <td>2013-10-04</td>\n",
       "      <td>Butte</td>\n",
       "      <td>66.2</td>\n",
       "      <td>27.4</td>\n",
       "      <td>10.1</td>\n",
       "      <td>57.9</td>\n",
       "      <td>0.0</td>\n",
       "    </tr>\n",
       "    <tr>\n",
       "      <th>4</th>\n",
       "      <td>298.0</td>\n",
       "      <td>2013-06-03</td>\n",
       "      <td>Butte</td>\n",
       "      <td>80.8</td>\n",
       "      <td>51.1</td>\n",
       "      <td>3.5</td>\n",
       "      <td>57.9</td>\n",
       "      <td>0.0</td>\n",
       "    </tr>\n",
       "    <tr>\n",
       "      <th>5</th>\n",
       "      <td>240.0</td>\n",
       "      <td>2013-06-08</td>\n",
       "      <td>Alameda</td>\n",
       "      <td>83.6</td>\n",
       "      <td>53.2</td>\n",
       "      <td>4.0</td>\n",
       "      <td>119.8</td>\n",
       "      <td>0.0</td>\n",
       "    </tr>\n",
       "    <tr>\n",
       "      <th>6</th>\n",
       "      <td>200.0</td>\n",
       "      <td>2013-07-04</td>\n",
       "      <td>Tehama</td>\n",
       "      <td>97.7</td>\n",
       "      <td>48.6</td>\n",
       "      <td>10.0</td>\n",
       "      <td>107.6</td>\n",
       "      <td>0.0</td>\n",
       "    </tr>\n",
       "  </tbody>\n",
       "</table>\n",
       "</div>"
      ],
      "text/plain": [
       "   AcresBurned        Date Counties  TEMP  DEWP  WDSP  ELEVATION  PRCP\n",
       "1        712.0  2013-07-19     Kern  80.5  33.8  13.2     1374.6   0.0\n",
       "3        305.0  2013-10-04    Butte  66.2  27.4  10.1       57.9   0.0\n",
       "4        298.0  2013-06-03    Butte  80.8  51.1   3.5       57.9   0.0\n",
       "5        240.0  2013-06-08  Alameda  83.6  53.2   4.0      119.8   0.0\n",
       "6        200.0  2013-07-04   Tehama  97.7  48.6  10.0      107.6   0.0"
      ]
     },
     "execution_count": 3,
     "metadata": {},
     "output_type": "execute_result"
    }
   ],
   "source": [
    "df.head()"
   ]
  },
  {
   "cell_type": "markdown",
   "metadata": {},
   "source": [
    "# Data Analysis & Results (EDA)"
   ]
  },
  {
   "cell_type": "markdown",
   "metadata": {},
   "source": [
    "Carry out EDA on your dataset(s); Describe in this section"
   ]
  },
  {
   "cell_type": "code",
   "execution_count": 4,
   "metadata": {},
   "outputs": [
    {
     "data": {
      "text/html": [
       "<div>\n",
       "<style scoped>\n",
       "    .dataframe tbody tr th:only-of-type {\n",
       "        vertical-align: middle;\n",
       "    }\n",
       "\n",
       "    .dataframe tbody tr th {\n",
       "        vertical-align: top;\n",
       "    }\n",
       "\n",
       "    .dataframe thead th {\n",
       "        text-align: right;\n",
       "    }\n",
       "</style>\n",
       "<table border=\"1\" class=\"dataframe\">\n",
       "  <thead>\n",
       "    <tr style=\"text-align: right;\">\n",
       "      <th></th>\n",
       "      <th>AcresBurned</th>\n",
       "      <th>TEMP</th>\n",
       "      <th>DEWP</th>\n",
       "      <th>WDSP</th>\n",
       "      <th>ELEVATION</th>\n",
       "      <th>PRCP</th>\n",
       "    </tr>\n",
       "  </thead>\n",
       "  <tbody>\n",
       "    <tr>\n",
       "      <th>count</th>\n",
       "      <td>372.000000</td>\n",
       "      <td>372.000000</td>\n",
       "      <td>372.000000</td>\n",
       "      <td>372.000000</td>\n",
       "      <td>372.000000</td>\n",
       "      <td>372.000000</td>\n",
       "    </tr>\n",
       "    <tr>\n",
       "      <th>mean</th>\n",
       "      <td>6147.862903</td>\n",
       "      <td>72.726882</td>\n",
       "      <td>46.010484</td>\n",
       "      <td>6.004301</td>\n",
       "      <td>279.641505</td>\n",
       "      <td>0.005376</td>\n",
       "    </tr>\n",
       "    <tr>\n",
       "      <th>std</th>\n",
       "      <td>42796.625726</td>\n",
       "      <td>9.469405</td>\n",
       "      <td>11.554669</td>\n",
       "      <td>2.880510</td>\n",
       "      <td>380.435179</td>\n",
       "      <td>0.074306</td>\n",
       "    </tr>\n",
       "    <tr>\n",
       "      <th>min</th>\n",
       "      <td>0.000000</td>\n",
       "      <td>36.700000</td>\n",
       "      <td>-1.000000</td>\n",
       "      <td>0.300000</td>\n",
       "      <td>1.800000</td>\n",
       "      <td>0.000000</td>\n",
       "    </tr>\n",
       "    <tr>\n",
       "      <th>25%</th>\n",
       "      <td>33.000000</td>\n",
       "      <td>66.275000</td>\n",
       "      <td>40.500000</td>\n",
       "      <td>4.300000</td>\n",
       "      <td>57.900000</td>\n",
       "      <td>0.000000</td>\n",
       "    </tr>\n",
       "    <tr>\n",
       "      <th>50%</th>\n",
       "      <td>78.000000</td>\n",
       "      <td>73.350000</td>\n",
       "      <td>48.400000</td>\n",
       "      <td>5.400000</td>\n",
       "      <td>119.800000</td>\n",
       "      <td>0.000000</td>\n",
       "    </tr>\n",
       "    <tr>\n",
       "      <th>75%</th>\n",
       "      <td>241.750000</td>\n",
       "      <td>79.225000</td>\n",
       "      <td>53.850000</td>\n",
       "      <td>6.900000</td>\n",
       "      <td>424.600000</td>\n",
       "      <td>0.000000</td>\n",
       "    </tr>\n",
       "    <tr>\n",
       "      <th>max</th>\n",
       "      <td>410203.000000</td>\n",
       "      <td>106.200000</td>\n",
       "      <td>74.600000</td>\n",
       "      <td>22.000000</td>\n",
       "      <td>2056.790000</td>\n",
       "      <td>1.360000</td>\n",
       "    </tr>\n",
       "  </tbody>\n",
       "</table>\n",
       "</div>"
      ],
      "text/plain": [
       "         AcresBurned        TEMP        DEWP        WDSP    ELEVATION  \\\n",
       "count     372.000000  372.000000  372.000000  372.000000   372.000000   \n",
       "mean     6147.862903   72.726882   46.010484    6.004301   279.641505   \n",
       "std     42796.625726    9.469405   11.554669    2.880510   380.435179   \n",
       "min         0.000000   36.700000   -1.000000    0.300000     1.800000   \n",
       "25%        33.000000   66.275000   40.500000    4.300000    57.900000   \n",
       "50%        78.000000   73.350000   48.400000    5.400000   119.800000   \n",
       "75%       241.750000   79.225000   53.850000    6.900000   424.600000   \n",
       "max    410203.000000  106.200000   74.600000   22.000000  2056.790000   \n",
       "\n",
       "             PRCP  \n",
       "count  372.000000  \n",
       "mean     0.005376  \n",
       "std      0.074306  \n",
       "min      0.000000  \n",
       "25%      0.000000  \n",
       "50%      0.000000  \n",
       "75%      0.000000  \n",
       "max      1.360000  "
      ]
     },
     "execution_count": 4,
     "metadata": {},
     "output_type": "execute_result"
    }
   ],
   "source": [
    "# understand (describe) what's going on in the data\n",
    "df.describe()"
   ]
  },
  {
   "cell_type": "code",
   "execution_count": null,
   "metadata": {},
   "outputs": [],
   "source": []
  }
 ],
 "metadata": {
  "kernelspec": {
   "display_name": "Python 3",
   "language": "python",
   "name": "python3"
  },
  "language_info": {
   "codemirror_mode": {
    "name": "ipython",
    "version": 3
   },
   "file_extension": ".py",
   "mimetype": "text/x-python",
   "name": "python",
   "nbconvert_exporter": "python",
   "pygments_lexer": "ipython3",
   "version": "3.7.6"
  }
 },
 "nbformat": 4,
 "nbformat_minor": 2
}
