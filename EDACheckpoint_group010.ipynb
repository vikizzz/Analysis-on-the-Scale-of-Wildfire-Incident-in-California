{
 "cells": [
  {
   "cell_type": "markdown",
   "metadata": {},
   "source": [
    "# COGS 108 - EDA Checkpoint"
   ]
  },
  {
   "cell_type": "markdown",
   "metadata": {},
   "source": [
    "# Names\n",
    "\n",
    "- Jiayi Zhao\n",
    "- Wenbo Hu\n",
    "- Yunyi Huang\n",
    "- Xiaotong Zeng"
   ]
  },
  {
   "cell_type": "markdown",
   "metadata": {},
   "source": [
    "<a id='research_question'></a>\n",
    "# Research Question"
   ]
  },
  {
   "cell_type": "markdown",
   "metadata": {},
   "source": [
    "Is there a statistically significant relationship between the scale (burning area) of wildfire and climate variables in California that are associated with global warming such as relative humidity level, temperature, wind speed, and precipitation? Additionally, how can we utilize these climate variables to predict the wildfire event in California and the scale of wildfire?"
   ]
  },
  {
   "cell_type": "markdown",
   "metadata": {},
   "source": [
    "# Setup"
   ]
  },
  {
   "cell_type": "markdown",
   "metadata": {},
   "source": [
    "### Import Necessary Libraries"
   ]
  },
  {
   "cell_type": "code",
   "execution_count": 1,
   "metadata": {},
   "outputs": [],
   "source": [
    "# Import pandas to read csv file and manage heterogenous data\n",
    "import pandas as pd\n",
    "\n",
    "# Import numpy to store numeric information and perform numerical analysis\n",
    "import numpy as np\n",
    "\n",
    "# Import seaborn and matplotlib to visualize data\n",
    "import seaborn as sns\n",
    "import matplotlib.pyplot as plt\n",
    "\n",
    "# Import numpy to store numeric information and perform numerical analysis\n",
    "import numpy as np\n",
    "\n",
    "# Import seaborn and matplotlib to visualize data\n",
    "import seaborn as sns\n",
    "import matplotlib.pyplot as plt\n",
    "\n",
    "#Import scipy to gather statistics\n",
    "from scipy import stats\n",
    "\n",
    "# Import patsy and statsmodels for regression analysis\n",
    "import patsy\n",
    "import statsmodels.api as sm\n",
    "\n",
    "# Import math for using some math function\n",
    "import math\n",
    "\n",
    "import warnings\n",
    "\n",
    "import shutil\n",
    "\n",
    "import os"
   ]
  },
  {
   "cell_type": "markdown",
   "metadata": {},
   "source": [
    "### Import the three data sets that we need"
   ]
  },
  {
   "cell_type": "code",
   "execution_count": null,
   "metadata": {},
   "outputs": [],
   "source": [
    "# Load the California wildfire incidents data set in data frame\n",
    "# We get this data set from Kaggle (https://www.kaggle.com/ananthu017/california-wildfire-incidents-20132020)\n",
    "wildfire = pd.read_csv(\"California_Fire_Incidents.csv\")\n",
    "\n",
    "\n",
    "# Load the US weather station ID data set in data frame\n",
    "# We get the Integrated Surface Data (ISD) station list from ncdc.noaa.gov\n",
    "station = pd.read_csv(\"https://www1.ncdc.noaa.gov/pub/data/noaa/isd-history.csv\")\n",
    "\n",
    "\n",
    "# Load the US weather daily data set from 2013 to 2019 in data frame\n",
    "# We get this data from ncei.noaa.gov and download to the local.\n",
    "# (https://www.ncei.noaa.gov/data/global-summary-of-the-day/archive/)\n",
    "for dirname, _, filenames in os.walk('/Users/wenbohu/Desktop/Weather'):\n",
    "    for filename in filenames:\n",
    "        print((os.path.join(dirname, filename)))\n",
    "        \n",
    "# get all subdiretory of all tables\n",
    "file_dict ={}\n",
    "for path, dirs, files in os.walk('/Users/wenbohu/Desktop/Weather', topdown=False):\n",
    "    file_dict[path]=files\n",
    "    \n",
    "paths = list(file_dict.keys())\n",
    "\n",
    "events = []\n",
    "for path in paths:\n",
    "    events += [os.path.join(path,file) for file in file_dict[path]]\n",
    "    "
   ]
  },
  {
   "cell_type": "markdown",
   "metadata": {},
   "source": [
    "# Data Cleaning"
   ]
  },
  {
   "cell_type": "markdown",
   "metadata": {},
   "source": [
    "Since we have three data set, we choose to clean them seperatly and then merge these dataset by locations."
   ]
  },
  {
   "cell_type": "markdown",
   "metadata": {},
   "source": [
    "### First, we clean the California wildfire incidents data set\n"
   ]
  },
  {
   "cell_type": "markdown",
   "metadata": {},
   "source": [
    "Since we only need the dates, acres burned (scale), and county name for the following analysis, we update these information back to *'wildfire'*."
   ]
  },
  {
   "cell_type": "code",
   "execution_count": null,
   "metadata": {},
   "outputs": [],
   "source": [
    "# delete the irrelevant columns\n",
    "wildfire = wildfire[['AcresBurned','Started','Counties', 'Latitude', 'Longitude']]\n",
    "\n",
    "# change the started time into date\n",
    "wildfire['Started'] = [x[0:10] for x in wildfire['Started']]\n",
    "\n",
    "# change the 'Started' column name into 'Date'\n",
    "wildfire = wildfire.rename({'Started':'Date'}, axis='columns')\n",
    "\n",
    "#drop the null values \n",
    "wildfire['Latitude'] = wildfire['Latitude'].apply(lambda x: np.nan if x == 0 else x)\n",
    "wildfire = wildfire.dropna().reset_index(drop=True) \n"
   ]
  },
  {
   "cell_type": "markdown",
   "metadata": {},
   "source": [
    "Now take a look on the *wildfire* dataframe"
   ]
  },
  {
   "cell_type": "code",
   "execution_count": null,
   "metadata": {},
   "outputs": [],
   "source": [
    "wildfire.head()"
   ]
  },
  {
   "cell_type": "markdown",
   "metadata": {},
   "source": [
    "### Second, clean the Integrated Surface Data (ISD) station list"
   ]
  },
  {
   "cell_type": "code",
   "execution_count": null,
   "metadata": {},
   "outputs": [],
   "source": [
    "# Since the weather station ID is a combination of column 'USAF' and 'WBAN',\n",
    "# we combine these two columns into a new column called 'ID'\n",
    "station['ID']= station['USAF'].astype(str) + station['WBAN'].astype(str)\n",
    "\n",
    "# we only analyze California weather\n",
    "station = station[(station['STATE']=='CA') & (station['CTRY']=='US')].reset_index(drop=True)\n",
    "\n",
    "# station only need to include the ID and the nameof the station\n",
    "pd.set_option(\"max_rows\", None)"
   ]
  },
  {
   "cell_type": "markdown",
   "metadata": {},
   "source": [
    "Now take a look on the *station* dataframe"
   ]
  },
  {
   "cell_type": "code",
   "execution_count": null,
   "metadata": {},
   "outputs": [],
   "source": [
    "station.head()"
   ]
  },
  {
   "cell_type": "markdown",
   "metadata": {},
   "source": [
    "### Thrid, we merge the wildfire and station ID dataframes by matching the LATITUDE and LONGTITUDE of the wildfire incident locations and weather stations. \n",
    "We compare each error index (0.1, 0.2, 0.3, 0.5) in order to find which diameter we should choose for more unique stations is determined."
   ]
  },
  {
   "cell_type": "code",
   "execution_count": null,
   "metadata": {},
   "outputs": [],
   "source": [
    "IDlist = []\n",
    "for i,j in wildfire.iterrows():\n",
    "    before = len(IDlist)\n",
    "    for a,b in station.iterrows():\n",
    "        #about 50km * 40km (just for first time test then tried 0.3, 0.1, and 0.2)\n",
    "        if (((b['LAT'] <= j['Latitude'] + 0.2) and (b['LAT'] >= j['Latitude'] - 0.2)) \n",
    "        and (( b['LON'] <= j['Longitude'] + 0.2) and ( b['LON'] >= j['Longitude'] - 0.2))):\n",
    "            IDlist.append(b['ID'])\n",
    "            break\n",
    "    after = len(IDlist)\n",
    "    if (before == after):\n",
    "        IDlist.append(\"Not_Found\")"
   ]
  },
  {
   "cell_type": "code",
   "execution_count": null,
   "metadata": {},
   "outputs": [],
   "source": [
    "# 0.5-95 0.3-119 0.1-119 0.2-127(THIS IS THE BEST!!!!)\n",
    "# when 0.1 it's also 119 but lots of not found values\n",
    "unique = []\n",
    "for x in IDlist:\n",
    "    if x not in unique:\n",
    "        unique.append(x)\n",
    "print(len(unique))"
   ]
  },
  {
   "cell_type": "markdown",
   "metadata": {},
   "source": [
    "Then, we create a dataframe called *matched_wildfire* that consists the scale, date, county name, latitude, and longitude of the wildfire incidents and the weather station ID in that incident area."
   ]
  },
  {
   "cell_type": "code",
   "execution_count": null,
   "metadata": {},
   "outputs": [],
   "source": [
    "IDlist = []\n",
    "row_fire = []\n",
    "row_ID =[]\n",
    "\n",
    "# create a new dataframe to store these matched data\n",
    "matched_wildfire = pd.DataFrame(columns=wildfire.columns)\n",
    "\n",
    "# iterate the rows in wildfire and station to find the matched data\n",
    "for i,j in wildfire.iterrows():\n",
    "    for a,b in station.iterrows():\n",
    "        if (((b['LAT'] <= j['Latitude'] + 0.2) and (b['LAT'] >= j['Latitude'] - 0.2)) \n",
    "        and (( b['LON'] <= j['Longitude'] + 0.2) and ( b['LON'] >= j['Longitude'] - 0.2))):\n",
    "            IDlist.append(b['ID'])\n",
    "            row_ID.append(b['ID'])\n",
    "            row_fire.append(list(j))\n",
    "            break\n",
    "            \n",
    "matched_wildfire = matched_wildfire.append(pd.DataFrame(row_fire,columns=wildfire.columns))\n",
    "matched_wildfire = matched_wildfire.assign(ID=row_ID)"
   ]
  },
  {
   "cell_type": "markdown",
   "metadata": {},
   "source": [
    "Now, take a look on the *matched_wildfire*"
   ]
  },
  {
   "cell_type": "code",
   "execution_count": null,
   "metadata": {},
   "outputs": [],
   "source": [
    "matched_wildfire.head()"
   ]
  },
  {
   "cell_type": "markdown",
   "metadata": {},
   "source": [
    "### Fourth, using the *matched_wildfire* data frame merge with the weather dataset from 2013 to 2019 so that every wildfire incident has the weather data of that day. "
   ]
  },
  {
   "cell_type": "markdown",
   "metadata": {},
   "source": [
    "Take a brief look on how the dataset of one station in the weather dataset in 2013 looks like"
   ]
  },
  {
   "cell_type": "code",
   "execution_count": null,
   "metadata": {},
   "outputs": [],
   "source": [
    "example = pd.read_csv(\"/Users/wenbohu/Desktop/Weather/2013/40854099999.csv\")\n",
    "example.head()"
   ]
  },
  {
   "cell_type": "markdown",
   "metadata": {},
   "source": [
    "Loop the *matched_wildfire* and find the weather data with the matched date and station ID"
   ]
  },
  {
   "cell_type": "code",
   "execution_count": null,
   "metadata": {},
   "outputs": [],
   "source": [
    "# Get the weather information of wildfire start date \n",
    "row_weather = []\n",
    "join_id = []\n",
    "num = 1\n",
    "\n",
    "# create a data frame to store the weather data\n",
    "weather = pd.DataFrame(columns = example.columns)\n",
    "\n",
    "for i, j in matched_wildfire.iterrows():\n",
    "    for file in events:\n",
    "        if num in join_id:\n",
    "            break\n",
    "        if (file[-15:-4] == j['Station_ID']):\n",
    "            temp = pd.read_csv(file)\n",
    "            for a, b in temp.iterrows():\n",
    "                if (b[\"DATE\"] == j['Date']):\n",
    "                    row_weather.append(list(b))\n",
    "                    join_id.append(num)\n",
    "                    break \n",
    "    num += 1"
   ]
  },
  {
   "cell_type": "markdown",
   "metadata": {},
   "source": [
    "Append these matched weather data to *weather*"
   ]
  },
  {
   "cell_type": "code",
   "execution_count": null,
   "metadata": {},
   "outputs": [],
   "source": [
    "weather = pd.DataFrame(columns = example.columns)\n",
    "weather = weather.append(pd.DataFrame(row_weather, columns = example.columns))\n",
    "weather = weather.assign(Join_ID = join_id)"
   ]
  },
  {
   "cell_type": "markdown",
   "metadata": {},
   "source": [
    "Now, take a look on the *weather*"
   ]
  },
  {
   "cell_type": "code",
   "execution_count": null,
   "metadata": {},
   "outputs": [],
   "source": [
    "weather.head()"
   ]
  },
  {
   "cell_type": "markdown",
   "metadata": {},
   "source": [
    "Merge *matched_wildfire* and *weather*, and store this merge dataset in local as a csv file"
   ]
  },
  {
   "cell_type": "code",
   "execution_count": null,
   "metadata": {},
   "outputs": [],
   "source": [
    "dataframe = matched_wildfire.merge(weather, on = 'Join_ID')\n",
    "dataframe.to_csv('/Users/wenbohu/Desktop/df.csv')"
   ]
  },
  {
   "cell_type": "markdown",
   "metadata": {},
   "source": [
    "### Lastly, import and clean this final data frame"
   ]
  },
  {
   "cell_type": "markdown",
   "metadata": {},
   "source": [
    "The weather variable columns decription:\n",
    " - TMP: Mean temperature for the day in degrees Fahrenheit to tenths. Missing = 9999.9\n",
    " - DEWP: Mean dew point for the day in degrees Fahrenheit to tenths. Missing = 9999.9\n",
    " - WDSD: Mean wind speed for the day in knots to tenths. Missing = 999.9\n",
    " - PRCP: Total precipitation (rain and/or melted snow) reported during the day in inches and hundredths; will usually not end with"
   ]
  },
  {
   "cell_type": "code",
   "execution_count": 2,
   "metadata": {},
   "outputs": [],
   "source": [
    "df = pd.read_csv('df.csv')\n",
    "\n",
    "df = df[['AcresBurned', 'Date', 'Counties','TEMP','DEWP','WDSP','PRCP']] \n",
    "\n",
    "# By the column description, we replace the missing value (9999.9 or 999.9) with np.nan\n",
    "df['TEMP'] = df['TEMP'].replace(9999.9, np.nan, regex=True) \n",
    "df['DEWP'] = df['DEWP'].replace(9999.9, np.nan, regex=True) \n",
    "df['WDSP'] = df['WDSP'].replace(999.9, np.nan, regex=True) \n",
    "# Drop the NAN value\n",
    "df = df.dropna(subset=['TEMP','DEWP','WDSP'])\n",
    "\n",
    "# convert the temperature and the dewpoint from Fahrenheit to Celsius\n",
    "df['TEMP'] = 5.0 / 9.0 * (df['TEMP'] - 32.0)\n",
    "df['DEWP'] = 5.0 / 9.0 * (df['DEWP'] - 32.0)\n",
    "\n",
    "# calculate saturation vapor pressure(Es) and actual vapor pressure(E) in millibars.\n",
    "df['Es'] = 6.11*10.0**(7.5*df['TEMP']/(237.7+df['TEMP']))\n",
    "df['E'] = 6.11*10.0**(7.5*df['DEWP']/(237.7+df['DEWP']))\n",
    "\n",
    "# Once you have the saturation vapor pressure and the actual vapor pressure, \n",
    "# relative humidity(RH) can be computed by dividing the actual vapor pressure by the saturation vapor pressure \n",
    "# and then multiplying by 100 to convert the quantity to a percent.\n",
    "df ['RelaHumPct'] = (df['E']/df['Es'])*100\n",
    "\n",
    "# Rename the columns\n",
    "df = df.rename(columns={'Counties':'County','TEMP':'Temp','DEWP':'DewPt','WDSP': 'WindSpd','PRCP':'Precipitation'}) "
   ]
  },
  {
   "cell_type": "markdown",
   "metadata": {},
   "source": [
    "#### The Final Dataframe"
   ]
  },
  {
   "cell_type": "markdown",
   "metadata": {},
   "source": [
    "Description on the columns of the final dataframe:\n",
    " - AcresBurned: The area of the wildfire incident burns in degree acre\n",
    " - Date: The date of the wildfire incident\n",
    " - County: The county where the wildfire incident belongs\n",
    " - Temp: Mean temperature for the day in degrees Celsius\n",
    " - DewPt: Mean dew point for the day in degrees Celsius\n",
    " - WindSpd: Mean wind speed for the day in knots to tenths.\n",
    " - Precipitation: Total precipitation (rain and/or melted snow) reported during the day in inches and hundredths; will usually not end with\n",
    " - Es: Saturation vapor pressure in millibars.\n",
    " - E: Actual vapor pressure in millibars.\n",
    " - RelaHumPct: Relative humidity for the day in perpercentage"
   ]
  },
  {
   "cell_type": "code",
   "execution_count": 3,
   "metadata": {},
   "outputs": [
    {
     "data": {
      "text/html": [
       "<div>\n",
       "<style scoped>\n",
       "    .dataframe tbody tr th:only-of-type {\n",
       "        vertical-align: middle;\n",
       "    }\n",
       "\n",
       "    .dataframe tbody tr th {\n",
       "        vertical-align: top;\n",
       "    }\n",
       "\n",
       "    .dataframe thead th {\n",
       "        text-align: right;\n",
       "    }\n",
       "</style>\n",
       "<table border=\"1\" class=\"dataframe\">\n",
       "  <thead>\n",
       "    <tr style=\"text-align: right;\">\n",
       "      <th></th>\n",
       "      <th>AcresBurned</th>\n",
       "      <th>Date</th>\n",
       "      <th>County</th>\n",
       "      <th>Temp</th>\n",
       "      <th>DewPt</th>\n",
       "      <th>WindSpd</th>\n",
       "      <th>Precipitation</th>\n",
       "      <th>Es</th>\n",
       "      <th>E</th>\n",
       "      <th>RelaHumPct</th>\n",
       "    </tr>\n",
       "  </thead>\n",
       "  <tbody>\n",
       "    <tr>\n",
       "      <th>1</th>\n",
       "      <td>712.0</td>\n",
       "      <td>2013-07-19</td>\n",
       "      <td>Kern</td>\n",
       "      <td>26.944444</td>\n",
       "      <td>1.000000</td>\n",
       "      <td>13.2</td>\n",
       "      <td>0.0</td>\n",
       "      <td>35.452296</td>\n",
       "      <td>6.568427</td>\n",
       "      <td>18.527509</td>\n",
       "    </tr>\n",
       "    <tr>\n",
       "      <th>3</th>\n",
       "      <td>305.0</td>\n",
       "      <td>2013-10-04</td>\n",
       "      <td>Butte</td>\n",
       "      <td>19.000000</td>\n",
       "      <td>-2.555556</td>\n",
       "      <td>10.1</td>\n",
       "      <td>0.0</td>\n",
       "      <td>21.936328</td>\n",
       "      <td>5.064435</td>\n",
       "      <td>23.086979</td>\n",
       "    </tr>\n",
       "    <tr>\n",
       "      <th>4</th>\n",
       "      <td>298.0</td>\n",
       "      <td>2013-06-03</td>\n",
       "      <td>Butte</td>\n",
       "      <td>27.111111</td>\n",
       "      <td>10.611111</td>\n",
       "      <td>3.5</td>\n",
       "      <td>0.0</td>\n",
       "      <td>35.800090</td>\n",
       "      <td>12.780260</td>\n",
       "      <td>35.698961</td>\n",
       "    </tr>\n",
       "    <tr>\n",
       "      <th>5</th>\n",
       "      <td>240.0</td>\n",
       "      <td>2013-06-08</td>\n",
       "      <td>Alameda</td>\n",
       "      <td>28.666667</td>\n",
       "      <td>11.777778</td>\n",
       "      <td>4.0</td>\n",
       "      <td>0.0</td>\n",
       "      <td>39.192166</td>\n",
       "      <td>13.807472</td>\n",
       "      <td>35.230183</td>\n",
       "    </tr>\n",
       "    <tr>\n",
       "      <th>6</th>\n",
       "      <td>200.0</td>\n",
       "      <td>2013-07-04</td>\n",
       "      <td>Tehama</td>\n",
       "      <td>36.500000</td>\n",
       "      <td>9.222222</td>\n",
       "      <td>10.0</td>\n",
       "      <td>0.0</td>\n",
       "      <td>60.869547</td>\n",
       "      <td>11.645454</td>\n",
       "      <td>19.131822</td>\n",
       "    </tr>\n",
       "  </tbody>\n",
       "</table>\n",
       "</div>"
      ],
      "text/plain": [
       "   AcresBurned        Date   County       Temp      DewPt  WindSpd  \\\n",
       "1        712.0  2013-07-19     Kern  26.944444   1.000000     13.2   \n",
       "3        305.0  2013-10-04    Butte  19.000000  -2.555556     10.1   \n",
       "4        298.0  2013-06-03    Butte  27.111111  10.611111      3.5   \n",
       "5        240.0  2013-06-08  Alameda  28.666667  11.777778      4.0   \n",
       "6        200.0  2013-07-04   Tehama  36.500000   9.222222     10.0   \n",
       "\n",
       "   Precipitation         Es          E  RelaHumPct  \n",
       "1            0.0  35.452296   6.568427   18.527509  \n",
       "3            0.0  21.936328   5.064435   23.086979  \n",
       "4            0.0  35.800090  12.780260   35.698961  \n",
       "5            0.0  39.192166  13.807472   35.230183  \n",
       "6            0.0  60.869547  11.645454   19.131822  "
      ]
     },
     "execution_count": 3,
     "metadata": {},
     "output_type": "execute_result"
    }
   ],
   "source": [
    "df.head()"
   ]
  },
  {
   "cell_type": "markdown",
   "metadata": {},
   "source": [
    "# Data Analysis & Results (EDA)"
   ]
  },
  {
   "cell_type": "markdown",
   "metadata": {},
   "source": [
    "Carry out EDA on your dataset(s); Describe in this section"
   ]
  },
  {
   "cell_type": "code",
   "execution_count": 4,
   "metadata": {},
   "outputs": [
    {
     "data": {
      "text/html": [
       "<div>\n",
       "<style scoped>\n",
       "    .dataframe tbody tr th:only-of-type {\n",
       "        vertical-align: middle;\n",
       "    }\n",
       "\n",
       "    .dataframe tbody tr th {\n",
       "        vertical-align: top;\n",
       "    }\n",
       "\n",
       "    .dataframe thead th {\n",
       "        text-align: right;\n",
       "    }\n",
       "</style>\n",
       "<table border=\"1\" class=\"dataframe\">\n",
       "  <thead>\n",
       "    <tr style=\"text-align: right;\">\n",
       "      <th></th>\n",
       "      <th>AcresBurned</th>\n",
       "      <th>Temp</th>\n",
       "      <th>DewPt</th>\n",
       "      <th>WindSpd</th>\n",
       "      <th>Precipitation</th>\n",
       "      <th>Es</th>\n",
       "      <th>E</th>\n",
       "      <th>RelaHumPct</th>\n",
       "    </tr>\n",
       "  </thead>\n",
       "  <tbody>\n",
       "    <tr>\n",
       "      <th>count</th>\n",
       "      <td>372.000000</td>\n",
       "      <td>372.000000</td>\n",
       "      <td>372.000000</td>\n",
       "      <td>372.000000</td>\n",
       "      <td>372.000000</td>\n",
       "      <td>372.000000</td>\n",
       "      <td>372.000000</td>\n",
       "      <td>372.000000</td>\n",
       "    </tr>\n",
       "    <tr>\n",
       "      <th>mean</th>\n",
       "      <td>6147.862903</td>\n",
       "      <td>22.626045</td>\n",
       "      <td>7.783602</td>\n",
       "      <td>6.004301</td>\n",
       "      <td>0.005376</td>\n",
       "      <td>28.614973</td>\n",
       "      <td>11.356061</td>\n",
       "      <td>41.945580</td>\n",
       "    </tr>\n",
       "    <tr>\n",
       "      <th>std</th>\n",
       "      <td>42796.625726</td>\n",
       "      <td>5.260780</td>\n",
       "      <td>6.419261</td>\n",
       "      <td>2.880510</td>\n",
       "      <td>0.074306</td>\n",
       "      <td>8.985619</td>\n",
       "      <td>4.066871</td>\n",
       "      <td>17.166863</td>\n",
       "    </tr>\n",
       "    <tr>\n",
       "      <th>min</th>\n",
       "      <td>0.000000</td>\n",
       "      <td>2.611111</td>\n",
       "      <td>-18.333333</td>\n",
       "      <td>0.300000</td>\n",
       "      <td>0.000000</td>\n",
       "      <td>7.371108</td>\n",
       "      <td>1.442902</td>\n",
       "      <td>6.578408</td>\n",
       "    </tr>\n",
       "    <tr>\n",
       "      <th>25%</th>\n",
       "      <td>33.000000</td>\n",
       "      <td>19.041667</td>\n",
       "      <td>4.722222</td>\n",
       "      <td>4.300000</td>\n",
       "      <td>0.000000</td>\n",
       "      <td>21.993352</td>\n",
       "      <td>8.553349</td>\n",
       "      <td>29.354164</td>\n",
       "    </tr>\n",
       "    <tr>\n",
       "      <th>50%</th>\n",
       "      <td>78.000000</td>\n",
       "      <td>22.972222</td>\n",
       "      <td>9.111111</td>\n",
       "      <td>5.400000</td>\n",
       "      <td>0.000000</td>\n",
       "      <td>27.989370</td>\n",
       "      <td>11.558695</td>\n",
       "      <td>38.853739</td>\n",
       "    </tr>\n",
       "    <tr>\n",
       "      <th>75%</th>\n",
       "      <td>241.750000</td>\n",
       "      <td>26.236111</td>\n",
       "      <td>12.138889</td>\n",
       "      <td>6.900000</td>\n",
       "      <td>0.000000</td>\n",
       "      <td>34.006824</td>\n",
       "      <td>14.139844</td>\n",
       "      <td>53.300922</td>\n",
       "    </tr>\n",
       "    <tr>\n",
       "      <th>max</th>\n",
       "      <td>410203.000000</td>\n",
       "      <td>41.222222</td>\n",
       "      <td>23.666667</td>\n",
       "      <td>22.000000</td>\n",
       "      <td>1.360000</td>\n",
       "      <td>78.428600</td>\n",
       "      <td>29.185274</td>\n",
       "      <td>91.355476</td>\n",
       "    </tr>\n",
       "  </tbody>\n",
       "</table>\n",
       "</div>"
      ],
      "text/plain": [
       "         AcresBurned        Temp       DewPt     WindSpd  Precipitation  \\\n",
       "count     372.000000  372.000000  372.000000  372.000000     372.000000   \n",
       "mean     6147.862903   22.626045    7.783602    6.004301       0.005376   \n",
       "std     42796.625726    5.260780    6.419261    2.880510       0.074306   \n",
       "min         0.000000    2.611111  -18.333333    0.300000       0.000000   \n",
       "25%        33.000000   19.041667    4.722222    4.300000       0.000000   \n",
       "50%        78.000000   22.972222    9.111111    5.400000       0.000000   \n",
       "75%       241.750000   26.236111   12.138889    6.900000       0.000000   \n",
       "max    410203.000000   41.222222   23.666667   22.000000       1.360000   \n",
       "\n",
       "               Es           E  RelaHumPct  \n",
       "count  372.000000  372.000000  372.000000  \n",
       "mean    28.614973   11.356061   41.945580  \n",
       "std      8.985619    4.066871   17.166863  \n",
       "min      7.371108    1.442902    6.578408  \n",
       "25%     21.993352    8.553349   29.354164  \n",
       "50%     27.989370   11.558695   38.853739  \n",
       "75%     34.006824   14.139844   53.300922  \n",
       "max     78.428600   29.185274   91.355476  "
      ]
     },
     "execution_count": 4,
     "metadata": {},
     "output_type": "execute_result"
    }
   ],
   "source": [
    "# understand (describe) what's going on in the data\n",
    "df.describe()"
   ]
  },
  {
   "cell_type": "code",
   "execution_count": null,
   "metadata": {},
   "outputs": [],
   "source": []
  }
 ],
 "metadata": {
  "kernelspec": {
   "display_name": "Python 3",
   "language": "python",
   "name": "python3"
  },
  "language_info": {
   "codemirror_mode": {
    "name": "ipython",
    "version": 3
   },
   "file_extension": ".py",
   "mimetype": "text/x-python",
   "name": "python",
   "nbconvert_exporter": "python",
   "pygments_lexer": "ipython3",
   "version": "3.7.6"
  }
 },
 "nbformat": 4,
 "nbformat_minor": 2
}
