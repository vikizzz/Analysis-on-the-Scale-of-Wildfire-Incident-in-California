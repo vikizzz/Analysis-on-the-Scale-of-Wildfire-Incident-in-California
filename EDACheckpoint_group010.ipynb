{
 "cells": [
  {
   "cell_type": "markdown",
   "metadata": {},
   "source": [
    "# COGS 108 - EDA Checkpoint"
   ]
  },
  {
   "cell_type": "markdown",
   "metadata": {},
   "source": [
    "# Names\n",
    "\n",
    "- Jiayi Zhao\n",
    "- Wenbo Hu\n",
    "- Yunyi Huang\n",
    "- Xiaotong Zeng"
   ]
  },
  {
   "cell_type": "markdown",
   "metadata": {},
   "source": [
    "<a id='research_question'></a>\n",
    "# Research Question"
   ]
  },
  {
   "cell_type": "markdown",
   "metadata": {},
   "source": [
    "Is there a statistically significant relationship between the scale (burning area) of wildfire and climate variables in California that are associated with global warming such as relative humidity level, temperature, wind speed, and precipitation? Additionally, how can we utilize these climate variables to predict the wildfire event in California and the scale of wildfire?"
   ]
  },
  {
   "cell_type": "markdown",
   "metadata": {},
   "source": [
    "# Setup"
   ]
  },
  {
   "cell_type": "markdown",
   "metadata": {},
   "source": [
    "### Import Necessary Libraries"
   ]
  },
  {
   "cell_type": "code",
   "execution_count": 2,
   "metadata": {},
   "outputs": [],
   "source": [
    "# Import pandas to read csv file and manage heterogenous data\n",
    "import pandas as pd\n",
    "\n",
    "# Import numpy to store numeric information and perform numerical analysis\n",
    "import numpy as np\n",
    "\n",
    "# Import seaborn and matplotlib to visualize data\n",
    "import seaborn as sns\n",
    "import matplotlib.pyplot as plt\n",
    "\n",
    "# Import numpy to store numeric information and perform numerical analysis\n",
    "import numpy as np\n",
    "\n",
    "# Import seaborn and matplotlib to visualize data\n",
    "import seaborn as sns\n",
    "import matplotlib.pyplot as plt\n",
    "\n",
    "#Import scipy to gather statistics\n",
    "from scipy import stats\n",
    "\n",
    "# Import patsy and statsmodels for regression analysis\n",
    "import patsy\n",
    "import statsmodels.api as sm\n",
    "\n",
    "# Import math for using some math function\n",
    "import math\n",
    "\n",
    "import warnings\n",
    "\n",
    "import shutil\n",
    "\n",
    "import os"
   ]
  },
  {
   "cell_type": "markdown",
   "metadata": {},
   "source": [
    "### Import the three data sets that we need"
   ]
  },
  {
   "cell_type": "code",
   "execution_count": null,
   "metadata": {},
   "outputs": [],
   "source": [
    "# Load the California wildfire incidents data set in data frame\n",
    "# We get this data set from Kaggle (https://www.kaggle.com/ananthu017/california-wildfire-incidents-20132020)\n",
    "wildfire = pd.read_csv(\"California_Fire_Incidents.csv\")\n",
    "\n",
    "\n",
    "# Load the US weather station ID data set in data frame\n",
    "# We get the Integrated Surface Data (ISD) station list from ncdc.noaa.gov\n",
    "station = pd.read_csv(\"https://www1.ncdc.noaa.gov/pub/data/noaa/isd-history.csv\")\n",
    "\n",
    "\n",
    "# Load the US weather daily data set from 2013 to 2019 in data frame\n",
    "# We get this data from ncei.noaa.gov and download to the local.\n",
    "# (https://www.ncei.noaa.gov/data/global-summary-of-the-day/archive/)\n",
    "for dirname, _, filenames in os.walk('/Users/wenbohu/Desktop/Weather'):\n",
    "    for filename in filenames:\n",
    "        print((os.path.join(dirname, filename)))\n",
    "        \n",
    "# get all subdiretory of all tables\n",
    "file_dict ={}\n",
    "for path, dirs, files in os.walk('/Users/wenbohu/Desktop/Weather', topdown=False):\n",
    "    file_dict[path]=files\n",
    "    \n",
    "paths = list(file_dict.keys())\n",
    "\n",
    "events = []\n",
    "for path in paths:\n",
    "    events += [os.path.join(path,file) for file in file_dict[path]]\n",
    "    "
   ]
  },
  {
   "cell_type": "markdown",
   "metadata": {},
   "source": [
    "# Data Cleaning"
   ]
  },
  {
   "cell_type": "markdown",
   "metadata": {},
   "source": [
    "Since we have three data set, we choose to clean them seperatly and then merge these dataset by locations."
   ]
  },
  {
   "cell_type": "markdown",
   "metadata": {},
   "source": [
    "### First, we clean the California wildfire incidents data set\n"
   ]
  },
  {
   "cell_type": "markdown",
   "metadata": {},
   "source": [
    "Since we only need the dates, acres burned (scale), and county name for the following analysis, we update these information back to *'wildfire'*."
   ]
  },
  {
   "cell_type": "code",
   "execution_count": null,
   "metadata": {},
   "outputs": [],
   "source": [
    "# delete the irrelevant columns\n",
    "wildfire = wildfire[['AcresBurned','Started','Counties', 'Latitude', 'Longitude']]\n",
    "\n",
    "# change the started time into date\n",
    "wildfire['Started'] = [x[0:10] for x in wildfire['Started']]\n",
    "\n",
    "# change the 'Started' column name into 'Date'\n",
    "wildfire = wildfire.rename({'Started':'Date'}, axis='columns')\n",
    "\n",
    "#drop the null values \n",
    "wildfire['Latitude'] = wildfire['Latitude'].apply(lambda x: np.nan if x == 0 else x)\n",
    "wildfire = wildfire.dropna().reset_index(drop=True) \n"
   ]
  },
  {
   "cell_type": "markdown",
   "metadata": {},
   "source": [
    "Now take a look on the *wildfire* dataframe"
   ]
  },
  {
   "cell_type": "code",
   "execution_count": null,
   "metadata": {},
   "outputs": [],
   "source": [
    "wildfire.head()"
   ]
  },
  {
   "cell_type": "markdown",
   "metadata": {},
   "source": [
    "### Second, clean the Integrated Surface Data (ISD) station list"
   ]
  },
  {
   "cell_type": "code",
   "execution_count": null,
   "metadata": {},
   "outputs": [],
   "source": [
    "# Since the weather station ID is a combination of column 'USAF' and 'WBAN',\n",
    "# we combine these two columns into a new column called 'ID'\n",
    "station['ID']= station['USAF'].astype(str) + station['WBAN'].astype(str)\n",
    "\n",
    "# we only analyze California weather\n",
    "station = station[(station['STATE']=='CA') & (station['CTRY']=='US')].reset_index(drop=True)\n",
    "\n",
    "# station only need to include the ID and the nameof the station\n",
    "pd.set_option(\"max_rows\", None)"
   ]
  },
  {
   "cell_type": "markdown",
   "metadata": {},
   "source": [
    "Now take a look on the *station* dataframe"
   ]
  },
  {
   "cell_type": "code",
   "execution_count": null,
   "metadata": {},
   "outputs": [],
   "source": [
    "station.head()"
   ]
  },
  {
   "cell_type": "markdown",
   "metadata": {},
   "source": [
    "### Thrid, we merge the wildfire and station ID dataframes by matching the LATITUDE and LONGTITUDE of the wildfire incident locations and weather stations. \n",
    "We compare each error index (0.1, 0.2, 0.3, 0.5) in order to find which diameter we should choose for more unique stations is determined."
   ]
  },
  {
   "cell_type": "code",
   "execution_count": null,
   "metadata": {},
   "outputs": [],
   "source": [
    "IDlist = []\n",
    "for i,j in wildfire.iterrows():\n",
    "    before = len(IDlist)\n",
    "    for a,b in station.iterrows():\n",
    "        #about 50km * 40km (just for first time test then tried 0.3, 0.1, and 0.2)\n",
    "        if (((b['LAT'] <= j['Latitude'] + 0.2) and (b['LAT'] >= j['Latitude'] - 0.2)) \n",
    "        and (( b['LON'] <= j['Longitude'] + 0.2) and ( b['LON'] >= j['Longitude'] - 0.2))):\n",
    "            IDlist.append(b['ID'])\n",
    "            break\n",
    "    after = len(IDlist)\n",
    "    if (before == after):\n",
    "        IDlist.append(\"Not_Found\")"
   ]
  },
  {
   "cell_type": "code",
   "execution_count": null,
   "metadata": {},
   "outputs": [],
   "source": [
    "# 0.5-95 0.3-119 0.1-119 0.2-127(THIS IS THE BEST!!!!)\n",
    "# when 0.1 it's also 119 but lots of not found values\n",
    "unique = []\n",
    "for x in IDlist:\n",
    "    if x not in unique:\n",
    "        unique.append(x)\n",
    "print(len(unique))"
   ]
  },
  {
   "cell_type": "markdown",
   "metadata": {},
   "source": [
    "Then, we create a dataframe called *matched_wildfire* that consists the scale, date, county name, latitude, and longitude of the wildfire incidents and the weather station ID in that incident area."
   ]
  },
  {
   "cell_type": "code",
   "execution_count": null,
   "metadata": {},
   "outputs": [],
   "source": [
    "IDlist = []\n",
    "row_fire = []\n",
    "row_ID =[]\n",
    "\n",
    "# create a new dataframe to store these matched data\n",
    "matched_wildfire = pd.DataFrame(columns=wildfire.columns)\n",
    "\n",
    "# iterate the rows in wildfire and station to find the matched data\n",
    "for i,j in wildfire.iterrows():\n",
    "    for a,b in station.iterrows():\n",
    "        if (((b['LAT'] <= j['Latitude'] + 0.2) and (b['LAT'] >= j['Latitude'] - 0.2)) \n",
    "        and (( b['LON'] <= j['Longitude'] + 0.2) and ( b['LON'] >= j['Longitude'] - 0.2))):\n",
    "            IDlist.append(b['ID'])\n",
    "            row_ID.append(b['ID'])\n",
    "            row_fire.append(list(j))\n",
    "            break\n",
    "            \n",
    "matched_wildfire = matched_wildfire.append(pd.DataFrame(row_fire,columns=wildfire.columns))\n",
    "matched_wildfire = matched_wildfire.assign(ID=row_ID)"
   ]
  },
  {
   "cell_type": "markdown",
   "metadata": {},
   "source": [
    "Now, take a look on the *matched_wildfire*"
   ]
  },
  {
   "cell_type": "code",
   "execution_count": null,
   "metadata": {},
   "outputs": [],
   "source": [
    "matched_wildfire.head()"
   ]
  },
  {
   "cell_type": "markdown",
   "metadata": {},
   "source": [
    "### Fourth, using the *matched_wildfire* data frame merge with the weather dataset from 2013 to 2019 so that every wildfire incident has the weather data of that day. "
   ]
  },
  {
   "cell_type": "markdown",
   "metadata": {},
   "source": [
    "Take a brief look on how the dataset of one station in the weather dataset in 2013 looks like"
   ]
  },
  {
   "cell_type": "code",
   "execution_count": null,
   "metadata": {},
   "outputs": [],
   "source": [
    "example = pd.read_csv(\"/Users/wenbohu/Desktop/Weather/2013/40854099999.csv\")\n",
    "example.head()"
   ]
  },
  {
   "cell_type": "markdown",
   "metadata": {},
   "source": [
    "Loop the *matched_wildfire* and find the weather data with the matched date and station ID"
   ]
  },
  {
   "cell_type": "code",
   "execution_count": null,
   "metadata": {},
   "outputs": [],
   "source": [
    "# Get the weather information of wildfire start date \n",
    "row_weather = []\n",
    "join_id = []\n",
    "num = 1\n",
    "\n",
    "# create a data frame to store the weather data\n",
    "weather = pd.DataFrame(columns = example.columns)\n",
    "\n",
    "for i, j in matched_wildfire.iterrows():\n",
    "    for file in events:\n",
    "        if num in join_id:\n",
    "            break\n",
    "        if (file[-15:-4] == j['Station_ID']):\n",
    "            temp = pd.read_csv(file)\n",
    "            for a, b in temp.iterrows():\n",
    "                if (b[\"DATE\"] == j['Date']):\n",
    "                    row_weather.append(list(b))\n",
    "                    join_id.append(num)\n",
    "                    break \n",
    "    num += 1"
   ]
  },
  {
   "cell_type": "markdown",
   "metadata": {},
   "source": [
    "Append these matched weather data to *weather*"
   ]
  },
  {
   "cell_type": "code",
   "execution_count": null,
   "metadata": {},
   "outputs": [],
   "source": [
    "weather = pd.DataFrame(columns = example.columns)\n",
    "weather = weather.append(pd.DataFrame(row_weather, columns = example.columns))\n",
    "weather = weather.assign(Join_ID = join_id)"
   ]
  },
  {
   "cell_type": "markdown",
   "metadata": {},
   "source": [
    "Now, take a look on the *weather*"
   ]
  },
  {
   "cell_type": "code",
   "execution_count": null,
   "metadata": {},
   "outputs": [],
   "source": [
    "weather.head()"
   ]
  },
  {
   "cell_type": "markdown",
   "metadata": {},
   "source": [
    "Merge *matched_wildfire* and *weather*, and store this merge dataset in local as a csv file"
   ]
  },
  {
   "cell_type": "code",
   "execution_count": null,
   "metadata": {},
   "outputs": [],
   "source": [
    "dataframe = matched_wildfire.merge(weather, on = 'Join_ID')\n",
    "dataframe.to_csv('/Users/wenbohu/Desktop/df.csv')"
   ]
  },
  {
   "cell_type": "markdown",
   "metadata": {},
   "source": [
    "### Lastly, import and clean this final data frame"
   ]
  },
  {
   "cell_type": "markdown",
   "metadata": {},
   "source": [
    "The weather variable columns decription:\n",
    " - TMP: Mean temperature for the day in degrees Fahrenheit to tenths. Missing = 9999.9\n",
    " - DEWP: Mean dew point for the day in degrees Fahrenheit to tenths. Missing = 9999.9\n",
    " - WDSD: Mean wind speed for the day in knots to tenths. Missing = 999.9\n",
    " - PRCP: Total precipitation (rain and/or melted snow) reported during the day in inches and hundredths; will usually not end with"
   ]
  },
  {
   "cell_type": "code",
   "execution_count": 3,
   "metadata": {},
   "outputs": [],
   "source": [
    "df = pd.read_csv('df.csv')\n",
    "\n",
    "df = df[['AcresBurned', 'Date', 'Counties','TEMP','DEWP','WDSP','PRCP']] \n",
    "\n",
    "# By the column description, we replace the missing value (9999.9 or 999.9) with np.nan\n",
    "df['TEMP'] = df['TEMP'].replace(9999.9, np.nan, regex=True) \n",
    "df['DEWP'] = df['DEWP'].replace(9999.9, np.nan, regex=True) \n",
    "df['WDSP'] = df['WDSP'].replace(999.9, np.nan, regex=True) \n",
    "# Drop the NAN value\n",
    "df = df.dropna(subset=['TEMP','DEWP','WDSP'])\n",
    "\n",
    "# convert the temperature and the dewpoint from Fahrenheit to Celsius\n",
    "df['TEMP'] = 5.0 / 9.0 * (df['TEMP'] - 32.0)\n",
    "df['DEWP'] = 5.0 / 9.0 * (df['DEWP'] - 32.0)\n",
    "\n",
    "# calculate saturation vapor pressure(Es) and actual vapor pressure(E) in millibars.\n",
    "df['Es'] = 6.11*10.0**(7.5*df['TEMP']/(237.7+df['TEMP']))\n",
    "df['E'] = 6.11*10.0**(7.5*df['DEWP']/(237.7+df['DEWP']))\n",
    "\n",
    "# Once you have the saturation vapor pressure and the actual vapor pressure, \n",
    "# relative humidity(RH) can be computed by dividing the actual vapor pressure by the saturation vapor pressure \n",
    "# and then multiplying by 100 to convert the quantity to a percent.\n",
    "df ['RelaHumPct'] = (df['E']/df['Es'])*100\n",
    "\n",
    "# Rename the columns\n",
    "df = df.rename(columns={'Counties':'County','TEMP':'Temp','DEWP':'DewPt','WDSP': 'WindSpd','PRCP':'Precipitation'})\n",
    "df = df[['AcresBurned','Date','County','Temp','WindSpd','Precipitation','RelaHumPct']]"
   ]
  },
  {
   "cell_type": "markdown",
   "metadata": {},
   "source": [
    "#### The Final Dataframe"
   ]
  },
  {
   "cell_type": "markdown",
   "metadata": {},
   "source": [
    "Description on the columns of the final dataframe:\n",
    " - AcresBurned: The area of the wildfire incident burns in degree acre\n",
    " - Date: The date of the wildfire incident\n",
    " - County: The county where the wildfire incident belongs\n",
    " - Temp: Mean temperature for the day in degrees Celsius\n",
    " - DewPt: Mean dew point for the day in degrees Celsius\n",
    " - WindSpd: Mean wind speed for the day in knots to tenths.\n",
    " - Precipitation: Total precipitation (rain and/or melted snow) reported during the day in inches and hundredths; will usually not end with\n",
    " - RelaHumPct: Relative humidity for the day in perpercentage"
   ]
  },
  {
   "cell_type": "code",
   "execution_count": 4,
   "metadata": {},
   "outputs": [
    {
     "data": {
      "text/html": [
       "<div>\n",
       "<style scoped>\n",
       "    .dataframe tbody tr th:only-of-type {\n",
       "        vertical-align: middle;\n",
       "    }\n",
       "\n",
       "    .dataframe tbody tr th {\n",
       "        vertical-align: top;\n",
       "    }\n",
       "\n",
       "    .dataframe thead th {\n",
       "        text-align: right;\n",
       "    }\n",
       "</style>\n",
       "<table border=\"1\" class=\"dataframe\">\n",
       "  <thead>\n",
       "    <tr style=\"text-align: right;\">\n",
       "      <th></th>\n",
       "      <th>AcresBurned</th>\n",
       "      <th>Date</th>\n",
       "      <th>County</th>\n",
       "      <th>Temp</th>\n",
       "      <th>WindSpd</th>\n",
       "      <th>Precipitation</th>\n",
       "      <th>RelaHumPct</th>\n",
       "    </tr>\n",
       "  </thead>\n",
       "  <tbody>\n",
       "    <tr>\n",
       "      <th>1</th>\n",
       "      <td>712.0</td>\n",
       "      <td>2013-07-19</td>\n",
       "      <td>Kern</td>\n",
       "      <td>26.944444</td>\n",
       "      <td>13.2</td>\n",
       "      <td>0.0</td>\n",
       "      <td>18.527509</td>\n",
       "    </tr>\n",
       "    <tr>\n",
       "      <th>3</th>\n",
       "      <td>305.0</td>\n",
       "      <td>2013-10-04</td>\n",
       "      <td>Butte</td>\n",
       "      <td>19.000000</td>\n",
       "      <td>10.1</td>\n",
       "      <td>0.0</td>\n",
       "      <td>23.086979</td>\n",
       "    </tr>\n",
       "    <tr>\n",
       "      <th>4</th>\n",
       "      <td>298.0</td>\n",
       "      <td>2013-06-03</td>\n",
       "      <td>Butte</td>\n",
       "      <td>27.111111</td>\n",
       "      <td>3.5</td>\n",
       "      <td>0.0</td>\n",
       "      <td>35.698961</td>\n",
       "    </tr>\n",
       "    <tr>\n",
       "      <th>5</th>\n",
       "      <td>240.0</td>\n",
       "      <td>2013-06-08</td>\n",
       "      <td>Alameda</td>\n",
       "      <td>28.666667</td>\n",
       "      <td>4.0</td>\n",
       "      <td>0.0</td>\n",
       "      <td>35.230183</td>\n",
       "    </tr>\n",
       "    <tr>\n",
       "      <th>6</th>\n",
       "      <td>200.0</td>\n",
       "      <td>2013-07-04</td>\n",
       "      <td>Tehama</td>\n",
       "      <td>36.500000</td>\n",
       "      <td>10.0</td>\n",
       "      <td>0.0</td>\n",
       "      <td>19.131822</td>\n",
       "    </tr>\n",
       "  </tbody>\n",
       "</table>\n",
       "</div>"
      ],
      "text/plain": [
       "   AcresBurned        Date   County       Temp  WindSpd  Precipitation  \\\n",
       "1        712.0  2013-07-19     Kern  26.944444     13.2            0.0   \n",
       "3        305.0  2013-10-04    Butte  19.000000     10.1            0.0   \n",
       "4        298.0  2013-06-03    Butte  27.111111      3.5            0.0   \n",
       "5        240.0  2013-06-08  Alameda  28.666667      4.0            0.0   \n",
       "6        200.0  2013-07-04   Tehama  36.500000     10.0            0.0   \n",
       "\n",
       "   RelaHumPct  \n",
       "1   18.527509  \n",
       "3   23.086979  \n",
       "4   35.698961  \n",
       "5   35.230183  \n",
       "6   19.131822  "
      ]
     },
     "execution_count": 4,
     "metadata": {},
     "output_type": "execute_result"
    }
   ],
   "source": [
    "df.head()"
   ]
  },
  {
   "cell_type": "markdown",
   "metadata": {},
   "source": [
    "# Data Analysis & Results (EDA)"
   ]
  },
  {
   "cell_type": "markdown",
   "metadata": {},
   "source": [
    "## Descriptive Analysis"
   ]
  },
  {
   "cell_type": "markdown",
   "metadata": {},
   "source": [
    "First, we'll get a sense of what information we have in the df dataset."
   ]
  },
  {
   "cell_type": "code",
   "execution_count": 5,
   "metadata": {},
   "outputs": [
    {
     "data": {
      "text/plain": [
       "(372, 7)"
      ]
     },
     "execution_count": 5,
     "metadata": {},
     "output_type": "execute_result"
    }
   ],
   "source": [
    "# determine the shape of the data\n",
    "df.shape"
   ]
  },
  {
   "cell_type": "code",
   "execution_count": 6,
   "metadata": {},
   "outputs": [
    {
     "data": {
      "text/html": [
       "<div>\n",
       "<style scoped>\n",
       "    .dataframe tbody tr th:only-of-type {\n",
       "        vertical-align: middle;\n",
       "    }\n",
       "\n",
       "    .dataframe tbody tr th {\n",
       "        vertical-align: top;\n",
       "    }\n",
       "\n",
       "    .dataframe thead th {\n",
       "        text-align: right;\n",
       "    }\n",
       "</style>\n",
       "<table border=\"1\" class=\"dataframe\">\n",
       "  <thead>\n",
       "    <tr style=\"text-align: right;\">\n",
       "      <th></th>\n",
       "      <th>AcresBurned</th>\n",
       "      <th>Temp</th>\n",
       "      <th>WindSpd</th>\n",
       "      <th>Precipitation</th>\n",
       "      <th>RelaHumPct</th>\n",
       "    </tr>\n",
       "  </thead>\n",
       "  <tbody>\n",
       "    <tr>\n",
       "      <th>count</th>\n",
       "      <td>372.000000</td>\n",
       "      <td>372.000000</td>\n",
       "      <td>372.000000</td>\n",
       "      <td>372.000000</td>\n",
       "      <td>372.000000</td>\n",
       "    </tr>\n",
       "    <tr>\n",
       "      <th>mean</th>\n",
       "      <td>6147.862903</td>\n",
       "      <td>22.626045</td>\n",
       "      <td>6.004301</td>\n",
       "      <td>0.005376</td>\n",
       "      <td>41.945580</td>\n",
       "    </tr>\n",
       "    <tr>\n",
       "      <th>std</th>\n",
       "      <td>42796.625726</td>\n",
       "      <td>5.260780</td>\n",
       "      <td>2.880510</td>\n",
       "      <td>0.074306</td>\n",
       "      <td>17.166863</td>\n",
       "    </tr>\n",
       "    <tr>\n",
       "      <th>min</th>\n",
       "      <td>0.000000</td>\n",
       "      <td>2.611111</td>\n",
       "      <td>0.300000</td>\n",
       "      <td>0.000000</td>\n",
       "      <td>6.578408</td>\n",
       "    </tr>\n",
       "    <tr>\n",
       "      <th>25%</th>\n",
       "      <td>33.000000</td>\n",
       "      <td>19.041667</td>\n",
       "      <td>4.300000</td>\n",
       "      <td>0.000000</td>\n",
       "      <td>29.354164</td>\n",
       "    </tr>\n",
       "    <tr>\n",
       "      <th>50%</th>\n",
       "      <td>78.000000</td>\n",
       "      <td>22.972222</td>\n",
       "      <td>5.400000</td>\n",
       "      <td>0.000000</td>\n",
       "      <td>38.853739</td>\n",
       "    </tr>\n",
       "    <tr>\n",
       "      <th>75%</th>\n",
       "      <td>241.750000</td>\n",
       "      <td>26.236111</td>\n",
       "      <td>6.900000</td>\n",
       "      <td>0.000000</td>\n",
       "      <td>53.300922</td>\n",
       "    </tr>\n",
       "    <tr>\n",
       "      <th>max</th>\n",
       "      <td>410203.000000</td>\n",
       "      <td>41.222222</td>\n",
       "      <td>22.000000</td>\n",
       "      <td>1.360000</td>\n",
       "      <td>91.355476</td>\n",
       "    </tr>\n",
       "  </tbody>\n",
       "</table>\n",
       "</div>"
      ],
      "text/plain": [
       "         AcresBurned        Temp     WindSpd  Precipitation  RelaHumPct\n",
       "count     372.000000  372.000000  372.000000     372.000000  372.000000\n",
       "mean     6147.862903   22.626045    6.004301       0.005376   41.945580\n",
       "std     42796.625726    5.260780    2.880510       0.074306   17.166863\n",
       "min         0.000000    2.611111    0.300000       0.000000    6.578408\n",
       "25%        33.000000   19.041667    4.300000       0.000000   29.354164\n",
       "50%        78.000000   22.972222    5.400000       0.000000   38.853739\n",
       "75%       241.750000   26.236111    6.900000       0.000000   53.300922\n",
       "max    410203.000000   41.222222   22.000000       1.360000   91.355476"
      ]
     },
     "execution_count": 6,
     "metadata": {},
     "output_type": "execute_result"
    }
   ],
   "source": [
    "# get descriptive statistics for quantitative variables\n",
    "df.describe()"
   ]
  },
  {
   "cell_type": "code",
   "execution_count": 12,
   "metadata": {
    "scrolled": true
   },
   "outputs": [
    {
     "data": {
      "text/plain": [
       "AcresBurned      float64\n",
       "Date              object\n",
       "County            object\n",
       "Temp             float64\n",
       "WindSpd          float64\n",
       "Precipitation    float64\n",
       "RelaHumPct       float64\n",
       "dtype: object"
      ]
     },
     "execution_count": 12,
     "metadata": {},
     "output_type": "execute_result"
    }
   ],
   "source": [
    "# Checking the data type\n",
    "df.dtypes"
   ]
  },
  {
   "cell_type": "markdown",
   "metadata": {},
   "source": [
    "## EDA: Exploratory Data Analysis"
   ]
  },
  {
   "cell_type": "code",
   "execution_count": 13,
   "metadata": {
    "scrolled": false
   },
   "outputs": [
    {
     "data": {
      "text/plain": [
       "<matplotlib.axes._subplots.AxesSubplot at 0x7f16036e5cd0>"
      ]
     },
     "execution_count": 13,
     "metadata": {},
     "output_type": "execute_result"
    },
    {
     "data": {
      "image/png": "[encoded data removed]",
      "text/plain": [
       "<Figure size 432x288 with 1 Axes>"
      ]
     },
     "metadata": {
      "needs_background": "light"
     },
     "output_type": "display_data"
    }
   ],
   "source": [
    "# look at burning areas (in acres) distributions\n",
    "sns.boxplot(x=df['AcresBurned'])"
   ]
  },
  {
   "cell_type": "markdown",
   "metadata": {},
   "source": [
    "Here you should see a distribution skewed right, with most burnning area are in few acreas and a few getting many more.\n",
    "We note that there exist an outlier that had 410203 acres burnning area. This is an interesting data point and something we want to investigate further. What's going on here?"
   ]
  },
  {
   "cell_type": "code",
   "execution_count": 14,
   "metadata": {
    "scrolled": true
   },
   "outputs": [
    {
     "data": {
      "text/html": [
       "<div>\n",
       "<style scoped>\n",
       "    .dataframe tbody tr th:only-of-type {\n",
       "        vertical-align: middle;\n",
       "    }\n",
       "\n",
       "    .dataframe tbody tr th {\n",
       "        vertical-align: top;\n",
       "    }\n",
       "\n",
       "    .dataframe thead th {\n",
       "        text-align: right;\n",
       "    }\n",
       "</style>\n",
       "<table border=\"1\" class=\"dataframe\">\n",
       "  <thead>\n",
       "    <tr style=\"text-align: right;\">\n",
       "      <th></th>\n",
       "      <th>AcresBurned</th>\n",
       "      <th>Date</th>\n",
       "      <th>County</th>\n",
       "      <th>Temp</th>\n",
       "      <th>WindSpd</th>\n",
       "      <th>Precipitation</th>\n",
       "      <th>RelaHumPct</th>\n",
       "    </tr>\n",
       "  </thead>\n",
       "  <tbody>\n",
       "    <tr>\n",
       "      <th>221</th>\n",
       "      <td>410203.0</td>\n",
       "      <td>2018-07-27</td>\n",
       "      <td>Colusa</td>\n",
       "      <td>27.611111</td>\n",
       "      <td>4.5</td>\n",
       "      <td>0.0</td>\n",
       "      <td>27.269169</td>\n",
       "    </tr>\n",
       "    <tr>\n",
       "      <th>222</th>\n",
       "      <td>410203.0</td>\n",
       "      <td>2018-07-27</td>\n",
       "      <td>Glenn</td>\n",
       "      <td>27.611111</td>\n",
       "      <td>4.5</td>\n",
       "      <td>0.0</td>\n",
       "      <td>27.269169</td>\n",
       "    </tr>\n",
       "    <tr>\n",
       "      <th>223</th>\n",
       "      <td>410203.0</td>\n",
       "      <td>2018-07-27</td>\n",
       "      <td>Lake</td>\n",
       "      <td>27.611111</td>\n",
       "      <td>4.5</td>\n",
       "      <td>0.0</td>\n",
       "      <td>27.269169</td>\n",
       "    </tr>\n",
       "    <tr>\n",
       "      <th>224</th>\n",
       "      <td>410203.0</td>\n",
       "      <td>2018-07-27</td>\n",
       "      <td>Mendocino</td>\n",
       "      <td>27.611111</td>\n",
       "      <td>4.5</td>\n",
       "      <td>0.0</td>\n",
       "      <td>27.269169</td>\n",
       "    </tr>\n",
       "  </tbody>\n",
       "</table>\n",
       "</div>"
      ],
      "text/plain": [
       "     AcresBurned        Date     County       Temp  WindSpd  Precipitation  \\\n",
       "221     410203.0  2018-07-27     Colusa  27.611111      4.5            0.0   \n",
       "222     410203.0  2018-07-27      Glenn  27.611111      4.5            0.0   \n",
       "223     410203.0  2018-07-27       Lake  27.611111      4.5            0.0   \n",
       "224     410203.0  2018-07-27  Mendocino  27.611111      4.5            0.0   \n",
       "\n",
       "     RelaHumPct  \n",
       "221   27.269169  \n",
       "222   27.269169  \n",
       "223   27.269169  \n",
       "224   27.269169  "
      ]
     },
     "execution_count": 14,
     "metadata": {},
     "output_type": "execute_result"
    }
   ],
   "source": [
    "outlier = df[df['AcresBurned'] == df['AcresBurned'].max()]\n",
    "outlier"
   ]
  },
  {
   "cell_type": "markdown",
   "metadata": {},
   "source": [
    "#### If we Google this date, we see that [Mendocino complex fire affects four counties](https://en.wikipedia.org/wiki/Mendocino_Complex_Fire).\n",
    "Before we carry out our analysis, we're going to **remove the repeated three rows and leave with Mendocino. Store this output in `df` again.**"
   ]
  },
  {
   "cell_type": "code",
   "execution_count": 15,
   "metadata": {},
   "outputs": [],
   "source": [
    "df = df.drop([df.index[221], df.index[222],df.index[223]])"
   ]
  },
  {
   "cell_type": "markdown",
   "metadata": {},
   "source": [
    "Let's take a look at the change in daily cirulation after removing these outliers."
   ]
  },
  {
   "cell_type": "code",
   "execution_count": 17,
   "metadata": {},
   "outputs": [
    {
     "data": {
      "image/png": "[encoded data removed]",
      "text/plain": [
       "<Figure size 432x288 with 1 Axes>"
      ]
     },
     "metadata": {
      "needs_background": "light"
     },
     "output_type": "display_data"
    }
   ],
   "source": [
    "# AcresBurned\n",
    "ax = sns.distplot(df['AcresBurned'], hist=True, kde=True, \n",
    "                  bins=int(len(df['AcresBurned'])/10),\n",
    "                  color='red',hist_kws={'edgecolor':'black'}, \n",
    "                  kde_kws={'linewidth':4})\n",
    "\n",
    "ax.set(xlabel='Acres Burned', ylabel='Frequency', title='Acres Burned Distribution')\n",
    "plt.show()"
   ]
  },
  {
   "cell_type": "markdown",
   "metadata": {},
   "source": [
    "### what happen after removing the outlier for acres burned?"
   ]
  },
  {
   "cell_type": "code",
   "execution_count": 18,
   "metadata": {},
   "outputs": [
    {
     "data": {
      "image/png": "[encoded data removed]",
      "text/plain": [
       "<Figure size 432x288 with 1 Axes>"
      ]
     },
     "metadata": {
      "needs_background": "light"
     },
     "output_type": "display_data"
    }
   ],
   "source": [
    "# look at temperature distributions\n",
    "ax = sns.distplot(df['Temp'], hist=True, kde=True, \n",
    "                  bins=int(len(df['Temp'])/10),\n",
    "                  color='blue',hist_kws={'edgecolor':'black'}, \n",
    "                  kde_kws={'linewidth':4})\n",
    "\n",
    "ax.set(xlabel='Temperature', ylabel='Frequency', title='Temperature Distribution')\n",
    "plt.show()"
   ]
  },
  {
   "cell_type": "markdown",
   "metadata": {},
   "source": [
    "#### Here we see our plot of temperature. **blablabla** "
   ]
  },
  {
   "cell_type": "code",
   "execution_count": 19,
   "metadata": {},
   "outputs": [
    {
     "data": {
      "image/png": "[encoded data removed]",
      "text/plain": [
       "<Figure size 432x288 with 1 Axes>"
      ]
     },
     "metadata": {
      "needs_background": "light"
     },
     "output_type": "display_data"
    }
   ],
   "source": [
    "# look at wind speed distributions\n",
    "ax = sns.distplot(df['WindSpd'], hist=True, kde=True, \n",
    "                  bins=int(len(df['WindSpd'])/10),\n",
    "                  color='brown',hist_kws={'edgecolor':'black'}, \n",
    "                  kde_kws={'linewidth':4})\n",
    "\n",
    "ax.set(xlabel='Wind Speed', ylabel='Frequency', title='Wind Speed Distribution')\n",
    "plt.show()"
   ]
  },
  {
   "cell_type": "markdown",
   "metadata": {},
   "source": [
    "#### (Need Correction on Analysis) For Wind Speed, the median clusters around 5.4 and the data seems to be skewed to the right with a few outliers that above 10."
   ]
  },
  {
   "cell_type": "code",
   "execution_count": 20,
   "metadata": {},
   "outputs": [
    {
     "data": {
      "image/png": "[encoded data removed]",
      "text/plain": [
       "<Figure size 432x288 with 1 Axes>"
      ]
     },
     "metadata": {
      "needs_background": "light"
     },
     "output_type": "display_data"
    }
   ],
   "source": [
    "# look at air relative humidity (in percentage) distributions\n",
    "ax = sns.distplot(df['RelaHumPct'], hist=True, kde=True, \n",
    "                  bins=int(len(df['RelaHumPct'])/10),\n",
    "                  color='gold',hist_kws={'edgecolor':'black'}, \n",
    "                  kde_kws={'linewidth':4})\n",
    "\n",
    "ax.set(xlabel='Relative Humidity Percent', ylabel='Frequency', title='Relative Humidity Percent Distribution')\n",
    "plt.show()"
   ]
  },
  {
   "cell_type": "markdown",
   "metadata": {},
   "source": [
    "#### (CORRECTION!!) For Relative Humidity Percent, the median clusters around 39 and the data seems to follow a weak normal distribution with a light skew to the right having a few outliers that above 85."
   ]
  },
  {
   "cell_type": "code",
   "execution_count": 21,
   "metadata": {},
   "outputs": [
    {
     "name": "stderr",
     "output_type": "stream",
     "text": [
      "/opt/conda/lib/python3.7/site-packages/seaborn/distributions.py:369: UserWarning: Default bandwidth for data is 0; skipping density estimation.\n",
      "  warnings.warn(msg, UserWarning)\n"
     ]
    },
    {
     "data": {
      "image/png": "[encoded data removed]",
      "text/plain": [
       "<Figure size 432x288 with 1 Axes>"
      ]
     },
     "metadata": {
      "needs_background": "light"
     },
     "output_type": "display_data"
    }
   ],
   "source": [
    "ax = sns.distplot(df['Precipitation'], hist=True, kde=True, \n",
    "                  bins=int(len(df['Precipitation'])/10),\n",
    "                  color='grey',hist_kws={'edgecolor':'black'}, \n",
    "                  kde_kws={'linewidth':4})\n",
    "\n",
    "ax.set(xlabel='Dew Point', ylabel='Frequency', title='Dew Point Distribution')\n",
    "plt.show()"
   ]
  },
  {
   "cell_type": "markdown",
   "metadata": {},
   "source": [
    "#### (CORRECTION!!)  For Precipitatin, the median is 0 and the data is skewed to the right due to a few days of rain. "
   ]
  },
  {
   "cell_type": "markdown",
   "metadata": {},
   "source": [
    "## Relationship between variables"
   ]
  },
  {
   "cell_type": "code",
   "execution_count": null,
   "metadata": {},
   "outputs": [],
   "source": []
  }
 ],
 "metadata": {
  "kernelspec": {
   "display_name": "Python 3",
   "language": "python",
   "name": "python3"
  },
  "language_info": {
   "codemirror_mode": {
    "name": "ipython",
    "version": 3
   },
   "file_extension": ".py",
   "mimetype": "text/x-python",
   "name": "python",
   "nbconvert_exporter": "python",
   "pygments_lexer": "ipython3",
   "version": "3.7.6"
  }
 },
 "nbformat": 4,
 "nbformat_minor": 2
}
